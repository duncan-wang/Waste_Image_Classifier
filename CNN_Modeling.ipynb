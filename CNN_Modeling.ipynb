{
  "nbformat": 4,
  "nbformat_minor": 0,
  "metadata": {
    "colab": {
      "name": "CNN Modeling.ipynb",
      "provenance": [],
      "collapsed_sections": []
    },
    "kernelspec": {
      "name": "python3",
      "display_name": "Python 3"
    },
    "language_info": {
      "name": "python"
    },
    "accelerator": "GPU"
  },
  "cells": [
    {
      "cell_type": "markdown",
      "metadata": {
        "id": "KjCTmSHoRfkR"
      },
      "source": [
        "Be sure to change runtime type to GPU if on Google Colab"
      ]
    },
    {
      "cell_type": "code",
      "metadata": {
        "id": "nHL-1Us43T8l"
      },
      "source": [
        "import math\n",
        "import pandas as pd\n",
        "import numpy as np\n",
        "import tensorflow as tf\n",
        "from tensorflow import keras\n",
        "import os"
      ],
      "execution_count": 1,
      "outputs": []
    },
    {
      "cell_type": "code",
      "metadata": {
        "colab": {
          "base_uri": "https://localhost:8080/"
        },
        "id": "WHpMx4BE4fVB",
        "outputId": "054fad40-cae1-4f1f-d1ea-29d10c2d77dc"
      },
      "source": [
        "from google.colab import drive\n",
        "drive.mount('content/')"
      ],
      "execution_count": 2,
      "outputs": [
        {
          "output_type": "stream",
          "text": [
            "Drive already mounted at content/; to attempt to forcibly remount, call drive.mount(\"content/\", force_remount=True).\n"
          ],
          "name": "stdout"
        }
      ]
    },
    {
      "cell_type": "code",
      "metadata": {
        "id": "j2aDf8lu3mAB"
      },
      "source": [
        "from keras.preprocessing import image\n",
        "test_image = image.load_img('/content/content/MyDrive/AI & Deep Learning Project/Garbage classification/test/cardboard/cardboard102.jpg')\n",
        "img_array = image.img_to_array(test_image)"
      ],
      "execution_count": 3,
      "outputs": []
    },
    {
      "cell_type": "code",
      "metadata": {
        "colab": {
          "base_uri": "https://localhost:8080/"
        },
        "id": "7Sq8g0CR53zs",
        "outputId": "cd9807b6-f16e-4f8f-f736-04ceb3d38ae3"
      },
      "source": [
        "img_array.shape"
      ],
      "execution_count": 4,
      "outputs": [
        {
          "output_type": "execute_result",
          "data": {
            "text/plain": [
              "(384, 512, 3)"
            ]
          },
          "metadata": {
            "tags": []
          },
          "execution_count": 4
        }
      ]
    },
    {
      "cell_type": "code",
      "metadata": {
        "colab": {
          "base_uri": "https://localhost:8080/"
        },
        "id": "KO67hyYE9pnv",
        "outputId": "add1b8e6-7054-45da-f10c-61c7ab1594f9"
      },
      "source": [
        "n_classes = len(os.listdir('/content/content/MyDrive/AI & Deep Learning Project/images'))\n",
        "n_classes"
      ],
      "execution_count": 5,
      "outputs": [
        {
          "output_type": "execute_result",
          "data": {
            "text/plain": [
              "6"
            ]
          },
          "metadata": {
            "tags": []
          },
          "execution_count": 5
        }
      ]
    },
    {
      "cell_type": "code",
      "metadata": {
        "colab": {
          "base_uri": "https://localhost:8080/"
        },
        "id": "O3QNk_VbcagB",
        "outputId": "6c76b6a1-c800-4791-e06d-ae907a8ae268"
      },
      "source": [
        "img_array = image.img_to_array(test_image)\n",
        "keras.applications.xception.preprocess_input(img_array).shape"
      ],
      "execution_count": 6,
      "outputs": [
        {
          "output_type": "execute_result",
          "data": {
            "text/plain": [
              "(384, 512, 3)"
            ]
          },
          "metadata": {
            "tags": []
          },
          "execution_count": 6
        }
      ]
    },
    {
      "cell_type": "code",
      "metadata": {
        "colab": {
          "base_uri": "https://localhost:8080/"
        },
        "id": "nVsz-11QaJGJ",
        "outputId": "916d6726-0ad5-4b30-832c-1a5c3aaaedda"
      },
      "source": [
        "TEST_PATH = '/content/content/MyDrive/AI & Deep Learning Project/Garbage classification/test'\n",
        "TRAIN_PATH = '/content/content/MyDrive/AI & Deep Learning Project/Garbage classification/train'\n",
        "\n",
        "X_test_list = []\n",
        "y_test_list = []\n",
        "\n",
        "X_train_list = []\n",
        "y_train_list = []\n",
        "\n",
        "for folder in os.listdir(TEST_PATH):\n",
        "  FOLDER_PATH = os.path.join(TEST_PATH, folder)\n",
        "  for im in os.listdir(FOLDER_PATH):\n",
        "    img = image.load_img(os.path.join(TEST_PATH, folder, im), target_size=(224, 224))\n",
        "    img_array = image.img_to_array(img)\n",
        "    processed_img = keras.applications.xception.preprocess_input(img_array)\n",
        "    X_test_list.append(list(processed_img))\n",
        "    y_test_list += [folder] # label of the image being passed in\n",
        "    if len(y_test_list)%50 == 0:\n",
        "      print(len(y_test_list), 'images loaded into test')\n",
        "\n",
        "for folder in os.listdir(TRAIN_PATH):\n",
        "  FOLDER_PATH = os.path.join(TRAIN_PATH, folder)\n",
        "  for im in os.listdir(FOLDER_PATH):\n",
        "    img = image.load_img(os.path.join(TRAIN_PATH, folder, im), target_size=(224, 224))\n",
        "    img_array = image.img_to_array(img)\n",
        "    processed_img = keras.applications.xception.preprocess_input(img_array)\n",
        "    X_train_list.append(list(processed_img))\n",
        "    y_train_list += [folder] # label of the image being passed in\n",
        "    if len(y_train_list)%50 == 0:\n",
        "      print(len(y_train_list), 'images loaded into train')"
      ],
      "execution_count": 7,
      "outputs": [
        {
          "output_type": "stream",
          "text": [
            "50 images loaded into test\n",
            "100 images loaded into test\n",
            "150 images loaded into test\n",
            "200 images loaded into test\n",
            "250 images loaded into test\n",
            "300 images loaded into test\n",
            "350 images loaded into test\n",
            "400 images loaded into test\n",
            "450 images loaded into test\n",
            "500 images loaded into test\n",
            "50 images loaded into train\n",
            "100 images loaded into train\n",
            "150 images loaded into train\n",
            "200 images loaded into train\n",
            "250 images loaded into train\n",
            "300 images loaded into train\n",
            "350 images loaded into train\n",
            "400 images loaded into train\n",
            "450 images loaded into train\n",
            "500 images loaded into train\n",
            "550 images loaded into train\n",
            "600 images loaded into train\n",
            "650 images loaded into train\n",
            "700 images loaded into train\n",
            "750 images loaded into train\n",
            "800 images loaded into train\n",
            "850 images loaded into train\n",
            "900 images loaded into train\n",
            "950 images loaded into train\n",
            "1000 images loaded into train\n",
            "1050 images loaded into train\n",
            "1100 images loaded into train\n",
            "1150 images loaded into train\n",
            "1200 images loaded into train\n",
            "1250 images loaded into train\n",
            "1300 images loaded into train\n",
            "1350 images loaded into train\n",
            "1400 images loaded into train\n",
            "1450 images loaded into train\n",
            "1500 images loaded into train\n",
            "1550 images loaded into train\n",
            "1600 images loaded into train\n",
            "1650 images loaded into train\n",
            "1700 images loaded into train\n",
            "1750 images loaded into train\n",
            "1800 images loaded into train\n",
            "1850 images loaded into train\n",
            "1900 images loaded into train\n",
            "1950 images loaded into train\n",
            "2000 images loaded into train\n"
          ],
          "name": "stdout"
        }
      ]
    },
    {
      "cell_type": "code",
      "metadata": {
        "id": "tY0tLTZQw-nf"
      },
      "source": [
        "X_test = np.array(X_test_list)\n",
        "X_train_full = np.array(X_train_list)\n",
        "y_test = pd.factorize(y_test_list)[0].reshape(-1, 1)\n",
        "y_train_full = pd.factorize(y_train_list)[0].reshape(-1, 1)"
      ],
      "execution_count": 8,
      "outputs": []
    },
    {
      "cell_type": "code",
      "metadata": {
        "id": "8R1kBGqc51nE"
      },
      "source": [
        "test_shuffler = np.random.permutation(len(X_test))\n",
        "X_test = X_test[test_shuffler]\n",
        "y_test = y_test[test_shuffler]\n",
        "\n",
        "train_full_shuffler = np.random.permutation(len(X_train_full))\n",
        "X_train_full = X_train_full[train_full_shuffler]\n",
        "y_train_full = y_train_full[train_full_shuffler]"
      ],
      "execution_count": 9,
      "outputs": []
    },
    {
      "cell_type": "code",
      "metadata": {
        "id": "8Tu29ZPT6Z2i"
      },
      "source": [
        "valid_size = int(len(y_test)/2)\n",
        "X_train, X_valid = X_train_full[:-valid_size], X_train_full[-valid_size:]\n",
        "y_train, y_valid = y_train_full[:-valid_size], y_train_full[-valid_size:]"
      ],
      "execution_count": 10,
      "outputs": []
    },
    {
      "cell_type": "code",
      "metadata": {
        "id": "MT_DHDxkQ2C0"
      },
      "source": [
        "base_model = keras.applications.xception.Xception(weights=\"imagenet\", include_top=False, input_shape=(224, 224, 3))"
      ],
      "execution_count": 11,
      "outputs": []
    },
    {
      "cell_type": "code",
      "metadata": {
        "id": "FwlS3tbhXubC"
      },
      "source": [
        "base_model.trainable = False\n",
        "\n",
        "model = keras.models.Sequential()\n",
        "model.add(base_model)\n",
        "model.add(keras.layers.GlobalAveragePooling2D())\n",
        "model.add(keras.layers.Dense(256, activation='relu'))\n",
        "model.add(keras.layers.BatchNormalization())\n",
        "model.add(keras.layers.Dropout(0.2))\n",
        "model.add(keras.layers.Flatten())\n",
        "\n",
        "model.add(keras.layers.Dense(6, activation='softmax')) # prediction layer"
      ],
      "execution_count": 12,
      "outputs": []
    },
    {
      "cell_type": "code",
      "metadata": {
        "colab": {
          "base_uri": "https://localhost:8080/"
        },
        "id": "sLh0JUBWSmqd",
        "outputId": "c841ce1d-6ba4-41db-fc7c-9878ce15d1c1"
      },
      "source": [
        "model.summary()"
      ],
      "execution_count": 13,
      "outputs": [
        {
          "output_type": "stream",
          "text": [
            "Model: \"sequential\"\n",
            "_________________________________________________________________\n",
            "Layer (type)                 Output Shape              Param #   \n",
            "=================================================================\n",
            "xception (Functional)        (None, 7, 7, 2048)        20861480  \n",
            "_________________________________________________________________\n",
            "global_average_pooling2d (Gl (None, 2048)              0         \n",
            "_________________________________________________________________\n",
            "dense (Dense)                (None, 256)               524544    \n",
            "_________________________________________________________________\n",
            "batch_normalization_4 (Batch (None, 256)               1024      \n",
            "_________________________________________________________________\n",
            "dropout (Dropout)            (None, 256)               0         \n",
            "_________________________________________________________________\n",
            "flatten (Flatten)            (None, 256)               0         \n",
            "_________________________________________________________________\n",
            "dense_1 (Dense)              (None, 6)                 1542      \n",
            "=================================================================\n",
            "Total params: 21,388,590\n",
            "Trainable params: 526,598\n",
            "Non-trainable params: 20,861,992\n",
            "_________________________________________________________________\n"
          ],
          "name": "stdout"
        }
      ]
    },
    {
      "cell_type": "code",
      "metadata": {
        "id": "cI3zlPfcRklb"
      },
      "source": [
        "model.compile(loss='sparse_categorical_crossentropy', optimizer='adam', metrics=['accuracy'])"
      ],
      "execution_count": 17,
      "outputs": []
    },
    {
      "cell_type": "code",
      "metadata": {
        "id": "MKWwoH0D76-k"
      },
      "source": [
        "# implementing a custom callback to stop training if we reach accuracy >0.999 because that indicates overfitting on this relatively small dataset\n",
        "class OverfittingCallback(tf.keras.callbacks.Callback):\n",
        "  def on_epoch_end(self, epoch, logs={}):\n",
        "    if logs.get('accuracy') > 0.999:\n",
        "      self.model.stop_training = True\n",
        "      print('Trying to prevent overfitting - stopping training')"
      ],
      "execution_count": 21,
      "outputs": []
    },
    {
      "cell_type": "code",
      "metadata": {
        "colab": {
          "base_uri": "https://localhost:8080/"
        },
        "id": "jvTaREEXSXBb",
        "outputId": "886631ff-337a-486c-9d13-cffb4326ee81"
      },
      "source": [
        "history = model.fit(X_train, y_train, epochs=40, validation_data = (X_test, y_test), callbacks = [keras.callbacks.EarlyStopping(patience=3, monitor='val_accuracy'), OverfittingCallback()])"
      ],
      "execution_count": 18,
      "outputs": [
        {
          "output_type": "stream",
          "text": [
            "Epoch 1/40\n",
            "55/55 [==============================] - 43s 199ms/step - loss: 0.7740 - accuracy: 0.7526 - val_loss: 0.5388 - val_accuracy: 0.8185\n",
            "Epoch 2/40\n",
            "55/55 [==============================] - 9s 162ms/step - loss: 0.3128 - accuracy: 0.8886 - val_loss: 0.4914 - val_accuracy: 0.8147\n",
            "Epoch 3/40\n",
            "55/55 [==============================] - 9s 162ms/step - loss: 0.2018 - accuracy: 0.9229 - val_loss: 0.4173 - val_accuracy: 0.8571\n",
            "Epoch 4/40\n",
            "55/55 [==============================] - 9s 164ms/step - loss: 0.1290 - accuracy: 0.9594 - val_loss: 0.5018 - val_accuracy: 0.8359\n",
            "Epoch 5/40\n",
            "55/55 [==============================] - 9s 164ms/step - loss: 0.0827 - accuracy: 0.9811 - val_loss: 0.4516 - val_accuracy: 0.8591\n",
            "Epoch 6/40\n",
            "55/55 [==============================] - 9s 166ms/step - loss: 0.0590 - accuracy: 0.9863 - val_loss: 0.4772 - val_accuracy: 0.8514\n",
            "Epoch 7/40\n",
            "55/55 [==============================] - 9s 166ms/step - loss: 0.0496 - accuracy: 0.9886 - val_loss: 0.4723 - val_accuracy: 0.8591\n",
            "Epoch 8/40\n",
            "55/55 [==============================] - 9s 167ms/step - loss: 0.0309 - accuracy: 0.9966 - val_loss: 0.4629 - val_accuracy: 0.8668\n",
            "Epoch 9/40\n",
            "55/55 [==============================] - 9s 169ms/step - loss: 0.0291 - accuracy: 0.9931 - val_loss: 0.5216 - val_accuracy: 0.8533\n",
            "Epoch 10/40\n",
            "55/55 [==============================] - 9s 169ms/step - loss: 0.0274 - accuracy: 0.9949 - val_loss: 0.5598 - val_accuracy: 0.8533\n",
            "Epoch 11/40\n",
            "55/55 [==============================] - 9s 170ms/step - loss: 0.0197 - accuracy: 0.9966 - val_loss: 0.5765 - val_accuracy: 0.8494\n"
          ],
          "name": "stdout"
        }
      ]
    },
    {
      "cell_type": "code",
      "metadata": {
        "id": "16L4BYkwZYsO",
        "colab": {
          "base_uri": "https://localhost:8080/"
        },
        "outputId": "1f34f2eb-a6d1-4d6b-cef7-55285ae3f730"
      },
      "source": [
        "base_model.trainable = True\n",
        "model.summary()"
      ],
      "execution_count": 19,
      "outputs": [
        {
          "output_type": "stream",
          "text": [
            "Model: \"sequential\"\n",
            "_________________________________________________________________\n",
            "Layer (type)                 Output Shape              Param #   \n",
            "=================================================================\n",
            "xception (Functional)        (None, 7, 7, 2048)        20861480  \n",
            "_________________________________________________________________\n",
            "global_average_pooling2d (Gl (None, 2048)              0         \n",
            "_________________________________________________________________\n",
            "dense (Dense)                (None, 256)               524544    \n",
            "_________________________________________________________________\n",
            "batch_normalization_4 (Batch (None, 256)               1024      \n",
            "_________________________________________________________________\n",
            "dropout (Dropout)            (None, 256)               0         \n",
            "_________________________________________________________________\n",
            "flatten (Flatten)            (None, 256)               0         \n",
            "_________________________________________________________________\n",
            "dense_1 (Dense)              (None, 6)                 1542      \n",
            "=================================================================\n",
            "Total params: 21,388,590\n",
            "Trainable params: 21,333,550\n",
            "Non-trainable params: 55,040\n",
            "_________________________________________________________________\n"
          ],
          "name": "stdout"
        }
      ]
    },
    {
      "cell_type": "code",
      "metadata": {
        "colab": {
          "base_uri": "https://localhost:8080/"
        },
        "id": "e3FPGSdj4JL2",
        "outputId": "4521643a-9a84-494f-a05a-fe0199d31b5e"
      },
      "source": [
        "history = model.fit(X_train, y_train, epochs=40, validation_data=(X_test, y_test), callbacks=[keras.callbacks.EarlyStopping(patience=3, monitor='val_accuracy'), OverfittingCallback()])"
      ],
      "execution_count": 20,
      "outputs": [
        {
          "output_type": "stream",
          "text": [
            "Epoch 1/40\n",
            "55/55 [==============================] - 9s 169ms/step - loss: 0.0215 - accuracy: 0.9971 - val_loss: 0.6023 - val_accuracy: 0.8436\n",
            "Epoch 2/40\n",
            "55/55 [==============================] - 9s 171ms/step - loss: 0.0186 - accuracy: 0.9960 - val_loss: 0.5574 - val_accuracy: 0.8533\n",
            "Epoch 3/40\n",
            "55/55 [==============================] - 9s 171ms/step - loss: 0.0098 - accuracy: 1.0000 - val_loss: 0.5097 - val_accuracy: 0.8745\n",
            "Epoch 4/40\n",
            "55/55 [==============================] - 9s 172ms/step - loss: 0.0070 - accuracy: 1.0000 - val_loss: 0.5248 - val_accuracy: 0.8629\n",
            "Epoch 5/40\n",
            "55/55 [==============================] - 10s 174ms/step - loss: 0.0051 - accuracy: 1.0000 - val_loss: 0.5418 - val_accuracy: 0.8610\n",
            "Epoch 6/40\n",
            "55/55 [==============================] - 9s 173ms/step - loss: 0.0057 - accuracy: 0.9994 - val_loss: 0.5480 - val_accuracy: 0.8668\n"
          ],
          "name": "stdout"
        }
      ]
    },
    {
      "cell_type": "code",
      "metadata": {
        "id": "-4DvyB7U8rj2"
      },
      "source": [
        "incorrect = dict()\n",
        "for idx, predictions in enumerate(model.predict(X_valid)):\n",
        "  if np.argmax(predictions) != y_valid[idx][0]:\n",
        "    incorrect[idx] = {'Predicted': np.argmax(predictions), 'Actual': y_valid[idx][0]}\n",
        "\n",
        "incorrect_preds = pd.DataFrame.from_dict(incorrect, orient='index')"
      ],
      "execution_count": 33,
      "outputs": []
    },
    {
      "cell_type": "code",
      "metadata": {
        "colab": {
          "base_uri": "https://localhost:8080/",
          "height": 1000
        },
        "id": "zvfVLzF39o-S",
        "outputId": "cb6220b1-8fd5-46cc-c0ce-4513044701c3"
      },
      "source": [
        "incorrect_preds.reset_index()"
      ],
      "execution_count": 35,
      "outputs": [
        {
          "output_type": "execute_result",
          "data": {
            "text/html": [
              "<div>\n",
              "<style scoped>\n",
              "    .dataframe tbody tr th:only-of-type {\n",
              "        vertical-align: middle;\n",
              "    }\n",
              "\n",
              "    .dataframe tbody tr th {\n",
              "        vertical-align: top;\n",
              "    }\n",
              "\n",
              "    .dataframe thead th {\n",
              "        text-align: right;\n",
              "    }\n",
              "</style>\n",
              "<table border=\"1\" class=\"dataframe\">\n",
              "  <thead>\n",
              "    <tr style=\"text-align: right;\">\n",
              "      <th></th>\n",
              "      <th>index</th>\n",
              "      <th>Predicted</th>\n",
              "      <th>Actual</th>\n",
              "    </tr>\n",
              "  </thead>\n",
              "  <tbody>\n",
              "    <tr>\n",
              "      <th>0</th>\n",
              "      <td>1</td>\n",
              "      <td>4</td>\n",
              "      <td>2</td>\n",
              "    </tr>\n",
              "    <tr>\n",
              "      <th>1</th>\n",
              "      <td>3</td>\n",
              "      <td>2</td>\n",
              "      <td>4</td>\n",
              "    </tr>\n",
              "    <tr>\n",
              "      <th>2</th>\n",
              "      <td>19</td>\n",
              "      <td>0</td>\n",
              "      <td>4</td>\n",
              "    </tr>\n",
              "    <tr>\n",
              "      <th>3</th>\n",
              "      <td>20</td>\n",
              "      <td>0</td>\n",
              "      <td>2</td>\n",
              "    </tr>\n",
              "    <tr>\n",
              "      <th>4</th>\n",
              "      <td>39</td>\n",
              "      <td>0</td>\n",
              "      <td>3</td>\n",
              "    </tr>\n",
              "    <tr>\n",
              "      <th>5</th>\n",
              "      <td>44</td>\n",
              "      <td>1</td>\n",
              "      <td>3</td>\n",
              "    </tr>\n",
              "    <tr>\n",
              "      <th>6</th>\n",
              "      <td>47</td>\n",
              "      <td>3</td>\n",
              "      <td>0</td>\n",
              "    </tr>\n",
              "    <tr>\n",
              "      <th>7</th>\n",
              "      <td>49</td>\n",
              "      <td>0</td>\n",
              "      <td>3</td>\n",
              "    </tr>\n",
              "    <tr>\n",
              "      <th>8</th>\n",
              "      <td>51</td>\n",
              "      <td>2</td>\n",
              "      <td>3</td>\n",
              "    </tr>\n",
              "    <tr>\n",
              "      <th>9</th>\n",
              "      <td>52</td>\n",
              "      <td>3</td>\n",
              "      <td>4</td>\n",
              "    </tr>\n",
              "    <tr>\n",
              "      <th>10</th>\n",
              "      <td>74</td>\n",
              "      <td>0</td>\n",
              "      <td>5</td>\n",
              "    </tr>\n",
              "    <tr>\n",
              "      <th>11</th>\n",
              "      <td>88</td>\n",
              "      <td>0</td>\n",
              "      <td>5</td>\n",
              "    </tr>\n",
              "    <tr>\n",
              "      <th>12</th>\n",
              "      <td>89</td>\n",
              "      <td>0</td>\n",
              "      <td>3</td>\n",
              "    </tr>\n",
              "    <tr>\n",
              "      <th>13</th>\n",
              "      <td>90</td>\n",
              "      <td>0</td>\n",
              "      <td>3</td>\n",
              "    </tr>\n",
              "    <tr>\n",
              "      <th>14</th>\n",
              "      <td>98</td>\n",
              "      <td>3</td>\n",
              "      <td>0</td>\n",
              "    </tr>\n",
              "    <tr>\n",
              "      <th>15</th>\n",
              "      <td>102</td>\n",
              "      <td>1</td>\n",
              "      <td>5</td>\n",
              "    </tr>\n",
              "    <tr>\n",
              "      <th>16</th>\n",
              "      <td>108</td>\n",
              "      <td>0</td>\n",
              "      <td>4</td>\n",
              "    </tr>\n",
              "    <tr>\n",
              "      <th>17</th>\n",
              "      <td>116</td>\n",
              "      <td>3</td>\n",
              "      <td>0</td>\n",
              "    </tr>\n",
              "    <tr>\n",
              "      <th>18</th>\n",
              "      <td>119</td>\n",
              "      <td>1</td>\n",
              "      <td>0</td>\n",
              "    </tr>\n",
              "    <tr>\n",
              "      <th>19</th>\n",
              "      <td>133</td>\n",
              "      <td>0</td>\n",
              "      <td>3</td>\n",
              "    </tr>\n",
              "    <tr>\n",
              "      <th>20</th>\n",
              "      <td>135</td>\n",
              "      <td>5</td>\n",
              "      <td>1</td>\n",
              "    </tr>\n",
              "    <tr>\n",
              "      <th>21</th>\n",
              "      <td>137</td>\n",
              "      <td>4</td>\n",
              "      <td>5</td>\n",
              "    </tr>\n",
              "    <tr>\n",
              "      <th>22</th>\n",
              "      <td>147</td>\n",
              "      <td>1</td>\n",
              "      <td>3</td>\n",
              "    </tr>\n",
              "    <tr>\n",
              "      <th>23</th>\n",
              "      <td>152</td>\n",
              "      <td>2</td>\n",
              "      <td>4</td>\n",
              "    </tr>\n",
              "    <tr>\n",
              "      <th>24</th>\n",
              "      <td>162</td>\n",
              "      <td>1</td>\n",
              "      <td>5</td>\n",
              "    </tr>\n",
              "    <tr>\n",
              "      <th>25</th>\n",
              "      <td>169</td>\n",
              "      <td>1</td>\n",
              "      <td>3</td>\n",
              "    </tr>\n",
              "    <tr>\n",
              "      <th>26</th>\n",
              "      <td>194</td>\n",
              "      <td>1</td>\n",
              "      <td>5</td>\n",
              "    </tr>\n",
              "    <tr>\n",
              "      <th>27</th>\n",
              "      <td>195</td>\n",
              "      <td>1</td>\n",
              "      <td>0</td>\n",
              "    </tr>\n",
              "    <tr>\n",
              "      <th>28</th>\n",
              "      <td>197</td>\n",
              "      <td>3</td>\n",
              "      <td>0</td>\n",
              "    </tr>\n",
              "    <tr>\n",
              "      <th>29</th>\n",
              "      <td>203</td>\n",
              "      <td>3</td>\n",
              "      <td>0</td>\n",
              "    </tr>\n",
              "    <tr>\n",
              "      <th>30</th>\n",
              "      <td>205</td>\n",
              "      <td>4</td>\n",
              "      <td>5</td>\n",
              "    </tr>\n",
              "    <tr>\n",
              "      <th>31</th>\n",
              "      <td>209</td>\n",
              "      <td>4</td>\n",
              "      <td>0</td>\n",
              "    </tr>\n",
              "    <tr>\n",
              "      <th>32</th>\n",
              "      <td>213</td>\n",
              "      <td>5</td>\n",
              "      <td>4</td>\n",
              "    </tr>\n",
              "    <tr>\n",
              "      <th>33</th>\n",
              "      <td>215</td>\n",
              "      <td>3</td>\n",
              "      <td>1</td>\n",
              "    </tr>\n",
              "    <tr>\n",
              "      <th>34</th>\n",
              "      <td>217</td>\n",
              "      <td>0</td>\n",
              "      <td>1</td>\n",
              "    </tr>\n",
              "    <tr>\n",
              "      <th>35</th>\n",
              "      <td>222</td>\n",
              "      <td>1</td>\n",
              "      <td>0</td>\n",
              "    </tr>\n",
              "    <tr>\n",
              "      <th>36</th>\n",
              "      <td>227</td>\n",
              "      <td>0</td>\n",
              "      <td>3</td>\n",
              "    </tr>\n",
              "    <tr>\n",
              "      <th>37</th>\n",
              "      <td>229</td>\n",
              "      <td>4</td>\n",
              "      <td>5</td>\n",
              "    </tr>\n",
              "    <tr>\n",
              "      <th>38</th>\n",
              "      <td>234</td>\n",
              "      <td>1</td>\n",
              "      <td>5</td>\n",
              "    </tr>\n",
              "    <tr>\n",
              "      <th>39</th>\n",
              "      <td>242</td>\n",
              "      <td>3</td>\n",
              "      <td>0</td>\n",
              "    </tr>\n",
              "    <tr>\n",
              "      <th>40</th>\n",
              "      <td>254</td>\n",
              "      <td>2</td>\n",
              "      <td>4</td>\n",
              "    </tr>\n",
              "    <tr>\n",
              "      <th>41</th>\n",
              "      <td>255</td>\n",
              "      <td>2</td>\n",
              "      <td>4</td>\n",
              "    </tr>\n",
              "  </tbody>\n",
              "</table>\n",
              "</div>"
            ],
            "text/plain": [
              "    index  Predicted  Actual\n",
              "0       1          4       2\n",
              "1       3          2       4\n",
              "2      19          0       4\n",
              "3      20          0       2\n",
              "4      39          0       3\n",
              "5      44          1       3\n",
              "6      47          3       0\n",
              "7      49          0       3\n",
              "8      51          2       3\n",
              "9      52          3       4\n",
              "10     74          0       5\n",
              "11     88          0       5\n",
              "12     89          0       3\n",
              "13     90          0       3\n",
              "14     98          3       0\n",
              "15    102          1       5\n",
              "16    108          0       4\n",
              "17    116          3       0\n",
              "18    119          1       0\n",
              "19    133          0       3\n",
              "20    135          5       1\n",
              "21    137          4       5\n",
              "22    147          1       3\n",
              "23    152          2       4\n",
              "24    162          1       5\n",
              "25    169          1       3\n",
              "26    194          1       5\n",
              "27    195          1       0\n",
              "28    197          3       0\n",
              "29    203          3       0\n",
              "30    205          4       5\n",
              "31    209          4       0\n",
              "32    213          5       4\n",
              "33    215          3       1\n",
              "34    217          0       1\n",
              "35    222          1       0\n",
              "36    227          0       3\n",
              "37    229          4       5\n",
              "38    234          1       5\n",
              "39    242          3       0\n",
              "40    254          2       4\n",
              "41    255          2       4"
            ]
          },
          "metadata": {
            "tags": []
          },
          "execution_count": 35
        }
      ]
    },
    {
      "cell_type": "code",
      "metadata": {
        "id": "9CuOVGke-W7Y"
      },
      "source": [
        ""
      ],
      "execution_count": null,
      "outputs": []
    }
  ]
}